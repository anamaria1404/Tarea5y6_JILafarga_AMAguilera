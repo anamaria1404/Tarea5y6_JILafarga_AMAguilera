{
 "cells": [
  {
   "cell_type": "markdown",
   "id": "f38dc948",
   "metadata": {},
   "source": [
    "<img style=\"float: left; margin: 30px 15px 15px 15px;\" src=\"https://pngimage.net/wp-content/uploads/2018/06/logo-iteso-png-5.png\" width=\"300\" height=\"500\" /> \n",
    "    \n",
    "    \n",
    "### <font color='navy'> Simulación de procesos financieros. \n",
    "\n",
    "**Nombres:** Ivan Lafarga Lizarraga, Ana María Aguilera Gómez\n",
    "\n",
    "**Fecha:** 11 de Octubre del 2021.\n",
    "\n",
    "**Expediente** : 708989 y 720567.\n",
    "**Profesor:** Oscar David Jaramillo Zuluaga.\n",
    "\n",
    "# Tarea 5: Clase 9"
   ]
  },
  {
   "cell_type": "markdown",
   "id": "15dcf90f",
   "metadata": {},
   "source": [
    "### Link de Github:\n",
    "https://github.com/ivanLafarga/Tarea5y6_JILafarga_AMAguilera"
   ]
  },
  {
   "cell_type": "markdown",
   "id": "47022552",
   "metadata": {},
   "source": [
    "># <font> **Tarea 5** \n",
    "    \n",
    "> Para las siguiente dos funciones, genere muestres aleatorias que distribuyan según la función dada usando el método de la transformada inversa y grafique el histograma de 1000 muestras generadas con el método de la transformada inversa y compárela con el función $f(x)$ **(recuerde que $f(x)$ es la distribución de probabilidad y $F(x)$ es la distribución de probabilidad acumulada)** [ver este enlace para más información](https://es.wikipedia.org/wiki/Funci%C3%B3n_de_distribuci%C3%B3n). Este procedimiento se realiza con el fín de validar que el procedimiento y los resultados son correctos.\n",
    "    \n",
    "> 1. Generación variable aleatoria continua\n",
    ">El tiempo en el cual un movimiento browniano se mantiene sobre su punto máximo en el intervalo [0,1] tiene una distribución\n",
    ">$$F(x)=\\frac{2}{\\pi}\\sin^{-1}(\\sqrt x),\\quad 0\\leq x\\leq 1$$ </font>\n",
    "\n",
    "> 2. Generación variable aleatoria Discreta\n",
    "> La distribución binomial modela el número de éxitos de n ensayos independientes donde hay una probabilidad p de éxito en cada ensayo.\n",
    "> Generar una variable aletoria binomial con parámetros $n=10$ y $p=0.7$. Recordar que $$X\\sim binomial(n,p) \\longrightarrow p_i=P(X=i)=\\frac{n!}{i!(n-i)!}p^i(1-p)^{n-i},\\quad i=0,1,\\cdots,n$$\n",
    "> Por propiedades de la operación factorial la anterior $p_i$ se puede escribir como:\n",
    "> $$p_{i+1}=\\frac{n-i}{i+1}\\frac{p}{1-p} p_i $$\n",
    "\n",
    "> **Nota:** Por notación recuerde que para el caso continuo $f(x)$ es la distribución de probabilidad (PDF), mientras $F(x)$ corresponde a la distribución de probabilidad acumulada (CDF). Para el caso discreto, $P(X=i)$ corresponde a su distribución de probabilidad (PMF) y $ F_{X}(x)=\\operatorname {P} (X\\leq x)=\\sum _{x_{i}\\leq x}\\operatorname {P} (X=x_{i})=\\sum _{x_{i}\\leq x}p(x_{i})$, corresponde a su distribución de probabilidad acumulada (CDF).\n",
    "\n"
   ]
  },
  {
   "cell_type": "markdown",
   "id": "70551f15",
   "metadata": {},
   "source": [
    "### <font > **Ejercicio 1:** \n",
    "> 1. Generación variable aleatoria continua\n",
    ">El tiempo en el cual un movimiento browniano se mantiene sobre su punto máximo en el intervalo [0,1] tiene una distribución\n",
    ">$$F(x)=\\frac{2}{\\pi}\\sin^{-1}(\\sqrt x),\\quad 0\\leq x\\leq 1$$ </font>\n",
    "\n"
   ]
  },
  {
   "cell_type": "code",
   "execution_count": 3,
   "id": "f2d9f491",
   "metadata": {},
   "outputs": [],
   "source": [
    "#Librerías:\n",
    "###Se importan librerías\n",
    "import numpy as np\n",
    "import matplotlib.pyplot as plt\n",
    "import seaborn as sns; sns.set()\n",
    "import scipy"
   ]
  },
  {
   "cell_type": "markdown",
   "id": "701250f1",
   "metadata": {},
   "source": [
    "### Solucines Ivan "
   ]
  },
  {
   "cell_type": "code",
   "execution_count": 6,
   "id": "ec3488c8",
   "metadata": {},
   "outputs": [
    {
     "data": {
      "image/png": "[encoded data removed]",
      "text/plain": [
       "<Figure size 360x360 with 1 Axes>"
      ]
     },
     "metadata": {},
     "output_type": "display_data"
    }
   ],
   "source": [
    "# Código de solución \n",
    "#al despejar x en la función acumulada F(x) obtenemos que: x = sin**2((pi*U)/2)\n",
    "n = 10000\n",
    "\n",
    "\n",
    "\n",
    "def movimientoBrowniano(n):\n",
    "    return np.sin((np.random.rand(n)*np.pi)/2)**2\n",
    "\n",
    "\n",
    "x = np.arange(0.01,1,0.01)\n",
    "z = movimientoBrowniano(n)\n",
    "plt.figure(figsize=(5,5))\n",
    "plt.title(\"Histograma_1\",fontsize=15)\n",
    "plt.xlabel('Valores aleatorios',fontsize=15)\n",
    "plt.ylabel('Probabilidad',fontsize=15)\n",
    "plt.hist(z,bins=50,density=True,label='Distribución movimiento browniano',color='green')\n",
    "\n",
    "\n",
    "\n",
    "#después se deriva para conocer la función f(x) y se obtiene que es: (1)/(np.pi*np.sqrt(1-x)*np.sqrt(x))\n",
    "fx = lambda x: (1)/(np.pi*np.sqrt(1-x)*np.sqrt(x))\n",
    "plt.plot(x,fx(x),lw=4,label=\"función f(x)\",color='red',ls=\"-\")\n",
    "plt.legend()\n",
    "plt.grid()\n",
    "plt.show()"
   ]
  },
  {
   "cell_type": "markdown",
   "id": "21c16b6c",
   "metadata": {},
   "source": [
    "### Operaciones para llegar al resultado\n",
    " <span style=\"black\">Despeje de F(x) para conocer x e igualando a u (inversa):\n",
    "\n",
    "<span style=\"black\">$$ u = F(x)=\\frac{2}{\\pi}\\sin^{-1}(\\sqrt x) = \\sin^{-1}(\\sqrt x)= \\frac{\\pi u}{2} \\sqrt x = \\sin(\\frac{\\pi u}{2})$$ \n",
    "$$\\sin^{-1}(\\sqrt x)= \\sin(\\frac{\\pi u}{2})$$\n",
    "Lo que usamos en la función de movimiento Browniano, entonces nos da: $$x = \\sin^{2}(\\frac{\\pi u}{2})$$ \n",
    "\n",
    " <span style=\"black\">Como cuando se tiene la función $f(x)$ y requerimos calcular F(x) se integra entonces se hace lo opuesto que es derivar, para conocer f(x) a partir de $F(x)$:\n",
    "\n",
    "\n",
    " <span style=\"color:black\"> $$f(x) = \\frac{d}{dx}(\\frac{2}{\\pi}\\sin^{-1}(\\sqrt x))=\\frac{2}{\\pi} \\frac{d}{dx}(\\sin^{-1}(\\sqrt x))=\\frac{d}{dx}(\\frac{2}{\\pi}\\sin^{-1}(\\sqrt x))$$ \n",
    "\n",
    "<span style=\"color:black\">Respuesta para f(x) : $$f(x)=\\frac{1}{\\pi\\sqrt{1-x}\\sqrt{x}}$$\n",
    "\n"
   ]
  },
  {
   "cell_type": "markdown",
   "id": "f9f16a97",
   "metadata": {},
   "source": [
    "### Solucines Ana "
   ]
  },
  {
   "cell_type": "code",
   "execution_count": 1,
   "id": "12615b9c",
   "metadata": {},
   "outputs": [],
   "source": [
    "import numpy as np\n",
    "import pandas as pd\n",
    "import matplotlib.pyplot as plt\n",
    "%matplotlib inline"
   ]
  },
  {
   "cell_type": "markdown",
   "id": "f86c002f",
   "metadata": {},
   "source": [
    "Con el método de la transformada inversa:\n",
    "\n",
    "$$u =\\frac{2}{\\pi}\\sin^{-1}(\\sqrt x)$$\n",
    "$$\\sin(u)=\\sin(\\frac{2}{\\pi})\\sqrt x$$\n",
    "$$\\sin(\\frac{\\pi u}{2})=\\sqrt{x}$$\n",
    "$$x = \\sin^{2}(\\frac{\\pi u}{2})$$ "
   ]
  },
  {
   "cell_type": "markdown",
   "id": "bf45d39d",
   "metadata": {},
   "source": [
    "Derivando se consegue f(x):\n",
    "$$\\frac{d}{dx}(\\frac{2}{\\pi}\\sin^{-1}(\\sqrt x))$$\n",
    "$$f(x)=\\frac{1}{\\pi\\sqrt{1-x}\\sqrt{x}}$$"
   ]
  },
  {
   "cell_type": "code",
   "execution_count": 2,
   "id": "ffe083d6",
   "metadata": {},
   "outputs": [
    {
     "name": "stderr",
     "output_type": "stream",
     "text": [
      "<ipython-input-2-839d290fa850>:2: RuntimeWarning: divide by zero encountered in true_divide\n",
      "  densidad = lambda x: 1/((np.sqrt(1-x))*np.sqrt(x)*np.pi) #derivada\n"
     ]
    },
    {
     "data": {
      "image/png": "[encoded data removed]",
      "text/plain": [
       "<Figure size 432x288 with 1 Axes>"
      ]
     },
     "metadata": {
      "needs_background": "light"
     },
     "output_type": "display_data"
    }
   ],
   "source": [
    "inversa = lambda x: (np.sin(x*np.pi/2))**2\n",
    "densidad = lambda x: 1/((np.sqrt(1-x))*np.sqrt(x)*np.pi) #derivada\n",
    "\n",
    "U = np.random.uniform(0, 1, 10000)\n",
    "f = inversa(U)\n",
    "\n",
    "x = np.arange(0,1,0.01)\n",
    "d = densidad(x)\n",
    "\n",
    "plt.hist(f, density=True, bins=40, label='Distr. Mov. Browniano')\n",
    "plt.plot(x, d, lw=3, label='Función f(x)')\n",
    "plt.legend()\n",
    "plt.show();"
   ]
  },
  {
   "cell_type": "markdown",
   "id": "42ca5b62",
   "metadata": {},
   "source": [
    "### <font> **Ejercicio 2:** \n",
    "> 2. Generación variable aleatoria Discreta\n",
    "> La distribución binomial modela el número de éxitos de n ensayos independientes donde hay una probabilidad p de éxito en cada ensayo.\n",
    "> Generar una variable aletoria binomial con parámetros $n=10$ y $p=0.7$. Recordar que $$X\\sim binomial(n,p) \\longrightarrow p_i=P(X=i)=\\frac{n!}{i!(n-i)!}p^i(1-p)^{n-i},\\quad i=0,1,\\cdots,n$$\n",
    "> Por propiedades de la operación factorial la anterior $p_i$ se puede escribir como:\n",
    "> $$p_{i+1}=\\frac{n-i}{i+1}\\frac{p}{1-p} p_i $$"
   ]
  },
  {
   "cell_type": "markdown",
   "id": "b14c7292",
   "metadata": {},
   "source": [
    "### Solucines Ivan "
   ]
  },
  {
   "cell_type": "code",
   "execution_count": 11,
   "id": "eda0d44f",
   "metadata": {},
   "outputs": [
    {
     "data": {
      "image/png": "[encoded data removed]",
      "text/plain": [
       "<Figure size 432x288 with 1 Axes>"
      ]
     },
     "metadata": {},
     "output_type": "display_data"
    }
   ],
   "source": [
    "N=100\n",
    "\n",
    "# Funcion :\n",
    "def binom():\n",
    "    x = 10; p = 0.7; N = 100\n",
    "    result = []\n",
    "    for a in range(N):\n",
    "        result.append(scipy.stats.binom.cdf(x, N, p))\n",
    "        x += 3\n",
    "    return result\n",
    "def Gen_distr_discreta(p_acum: 'P.Acumulada de la distribución a generar',\n",
    "                       N: 'cantidad de números aleatorios a generar'):\n",
    "    \n",
    "    U =np.random.rand(N)\n",
    "    # los valores aletorios\n",
    "    y = ([sum([1 for p in p_acum if p < ui]) for ui in U])\n",
    "    return y\n",
    "def plot_histogram_discrete(distribucion:'distribución a graficar histograma',\n",
    "                            label:'label del legend'):\n",
    "    # len(set(distribucion)) cuenta la cantidad de elementos distintos de la variable 'distribucion'\n",
    "    plt.figure(figsize=[6,4])\n",
    "    y,x = np.histogram(distribucion,bins = len(set(distribucion))) \n",
    "    plt.bar(list(set(distribucion)),y,label=label,color=\"blue\")\n",
    "    plt.legend()\n",
    "    plt.grid()\n",
    "    plt.show()\n",
    "p_acum = binom() \n",
    "distribucion = Gen_distr_discreta(p_acum,N) \n",
    "plot_histogram_discrete(distribucion,\"Distribución de función\")\n"
   ]
  },
  {
   "cell_type": "markdown",
   "id": "1f8337e0",
   "metadata": {},
   "source": [
    "### Respuesta Ivan\n",
    "Lo primero que se realizo fue la replicación de una función de distribución binomial acumulada, para que con otra función se generará otra función pero ahora discreta y podemos ver el resultado en la grafica"
   ]
  },
  {
   "cell_type": "markdown",
   "id": "da50fcf0",
   "metadata": {},
   "source": [
    "### Solucines Ana "
   ]
  },
  {
   "cell_type": "code",
   "execution_count": 3,
   "id": "537eb814",
   "metadata": {},
   "outputs": [
    {
     "data": {
      "image/png": "[encoded data removed]",
      "text/plain": [
       "<Figure size 432x288 with 1 Axes>"
      ]
     },
     "metadata": {
      "needs_background": "light"
     },
     "output_type": "display_data"
    }
   ],
   "source": [
    "def binomial(n,p):\n",
    "    Pr = np.zeros(n)\n",
    "    Pr[0] = (1-p)**n\n",
    "    def pr(i):\n",
    "        nonlocal Pr\n",
    "        c  = p/(1-p)\n",
    "        Pr[i+1]=(c*(n-i)/(i+1))*Pr[i]\n",
    "    [pr(i) for i in range(n-1)]\n",
    "    return np.cumsum(Pr)\n",
    "\n",
    "def distr_discreta(U, p_acum): #núm. aleatorios y prob. acumulada\n",
    "    v = np.array(list(map(lambda j:sum(1 for i in p_acum if i<U[j]),range(len(U)))))\n",
    "    return v\n",
    "\n",
    "n = 10\n",
    "p = 0.7\n",
    "N = 10000\n",
    "p_acum = binomial(n,p)\n",
    "u = np.random.rand(N)\n",
    "\n",
    "dist_binomial = distr_discreta(u,p_acum)\n",
    "y,x = np.histogram(dist_binomial,bins = len(set(dist_binomial)),density = True) \n",
    "plt.bar(x[1:],y)\n",
    "plt.show()"
   ]
  },
  {
   "cell_type": "markdown",
   "id": "5e16d44a",
   "metadata": {},
   "source": [
    "Distribución binomial discreta"
   ]
  }
 ],
 "metadata": {
  "kernelspec": {
   "display_name": "Python 3",
   "language": "python",
   "name": "python3"
  },
  "language_info": {
   "codemirror_mode": {
    "name": "ipython",
    "version": 3
   },
   "file_extension": ".py",
   "mimetype": "text/x-python",
   "name": "python",
   "nbconvert_exporter": "python",
   "pygments_lexer": "ipython3",
   "version": "3.8.8"
  }
 },
 "nbformat": 4,
 "nbformat_minor": 5
}
